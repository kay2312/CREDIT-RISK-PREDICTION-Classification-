{
 "cells": [
  {
   "cell_type": "markdown",
   "metadata": {},
   "source": [
    "# Validation"
   ]
  },
  {
   "cell_type": "markdown",
   "metadata": {},
   "source": [
    "## Installing and importing modules"
   ]
  },
  {
   "cell_type": "code",
   "execution_count": 2,
   "metadata": {
    "vscode": {
     "languageId": "powershell"
    }
   },
   "outputs": [
    {
     "name": "stdout",
     "output_type": "stream",
     "text": [
      "Requirement already satisfied: pandas in c:\\python312\\lib\\site-packages (2.2.2)\n",
      "Requirement already satisfied: matplotlib in c:\\python312\\lib\\site-packages (3.9.2)\n",
      "Requirement already satisfied: seaborn in c:\\python312\\lib\\site-packages (0.13.2)\n",
      "Requirement already satisfied: xgboost in c:\\python312\\lib\\site-packages (2.1.1)\n",
      "Requirement already satisfied: numpy>=1.26.0 in c:\\python312\\lib\\site-packages (from pandas) (1.26.4)\n",
      "Requirement already satisfied: python-dateutil>=2.8.2 in c:\\users\\user\\appdata\\roaming\\python\\python312\\site-packages (from pandas) (2.9.0.post0)\n",
      "Requirement already satisfied: pytz>=2020.1 in c:\\python312\\lib\\site-packages (from pandas) (2024.1)\n",
      "Requirement already satisfied: tzdata>=2022.7 in c:\\python312\\lib\\site-packages (from pandas) (2024.1)\n",
      "Requirement already satisfied: contourpy>=1.0.1 in c:\\python312\\lib\\site-packages (from matplotlib) (1.3.0)\n",
      "Requirement already satisfied: cycler>=0.10 in c:\\python312\\lib\\site-packages (from matplotlib) (0.12.1)\n",
      "Requirement already satisfied: fonttools>=4.22.0 in c:\\python312\\lib\\site-packages (from matplotlib) (4.53.1)\n",
      "Requirement already satisfied: kiwisolver>=1.3.1 in c:\\python312\\lib\\site-packages (from matplotlib) (1.4.7)\n",
      "Requirement already satisfied: packaging>=20.0 in c:\\users\\user\\appdata\\roaming\\python\\python312\\site-packages (from matplotlib) (24.1)\n",
      "Requirement already satisfied: pillow>=8 in c:\\python312\\lib\\site-packages (from matplotlib) (10.4.0)\n",
      "Requirement already satisfied: pyparsing>=2.3.1 in c:\\python312\\lib\\site-packages (from matplotlib) (3.1.4)\n",
      "Requirement already satisfied: scipy in c:\\python312\\lib\\site-packages (from xgboost) (1.12.0)\n",
      "Requirement already satisfied: six>=1.5 in c:\\users\\user\\appdata\\roaming\\python\\python312\\site-packages (from python-dateutil>=2.8.2->pandas) (1.16.0)\n",
      "Note: you may need to restart the kernel to use updated packages.\n"
     ]
    },
    {
     "name": "stderr",
     "output_type": "stream",
     "text": [
      "\n",
      "[notice] A new release of pip is available: 24.0 -> 24.2\n",
      "[notice] To update, run: python.exe -m pip install --upgrade pip\n"
     ]
    }
   ],
   "source": [
    "pip install pandas matplotlib seaborn xgboost"
   ]
  },
  {
   "cell_type": "code",
   "execution_count": 47,
   "metadata": {},
   "outputs": [],
   "source": [
    "import os.path\n",
    "\n",
    "import pandas as pd\n",
    "import numpy as np\n",
    "import matplotlib.pyplot as plt\n",
    "import seaborn as sns\n",
    "from scipy import stats\n",
    "from sklearn.ensemble import RandomForestClassifier\n",
    "from sklearn.linear_model import LogisticRegression\n",
    "from sklearn import metrics\n",
    "from sklearn.model_selection import train_test_split\n"
   ]
  },
  {
   "cell_type": "markdown",
   "metadata": {},
   "source": [
    "## Read the dataset"
   ]
  },
  {
   "cell_type": "code",
   "execution_count": 48,
   "metadata": {},
   "outputs": [],
   "source": [
    "pd.set_option('display.max_columns', 500)\n",
    "pd.set_option('display.max_rows', 500)"
   ]
  },
  {
   "cell_type": "code",
   "execution_count": 49,
   "metadata": {},
   "outputs": [
    {
     "name": "stdout",
     "output_type": "stream",
     "text": [
      "True\n"
     ]
    }
   ],
   "source": [
    "print(os.path.exists(\"prepared_dataset.csv\"))"
   ]
  },
  {
   "cell_type": "code",
   "execution_count": 50,
   "metadata": {},
   "outputs": [],
   "source": [
    "ds = pd.read_csv(\"prepared_dataset.csv\")"
   ]
  },
  {
   "cell_type": "markdown",
   "metadata": {},
   "source": [
    "## Modelling and Validation"
   ]
  },
  {
   "cell_type": "markdown",
   "metadata": {},
   "source": [
    "### Define target and features columns"
   ]
  },
  {
   "cell_type": "code",
   "execution_count": 51,
   "metadata": {},
   "outputs": [],
   "source": [
    "y_column = ['Status']  # target variable\n",
    "X_columns = [\n",
    "    'loan_limit', 'approv_in_adv', 'Credit_Worthiness',\n",
    "    'business_or_commercial', 'Neg_ammortization', 'interest_only',\n",
    "    'lump_sum_payment', 'construction_type', 'income',\n",
    "    'co-applicant_credit_type', 'age', 'submission_of_application',\n",
    "    'loan_type_type2', 'loan_type_type3', 'occupancy_type_pr',\n",
    "    'credit_type_EQUI'\n",
    "]\n",
    "X = ds[X_columns]\n",
    "y = ds[y_column]"
   ]
  },
  {
   "cell_type": "markdown",
   "metadata": {},
   "source": [
    "### Визначення розподілу Train-Valid-Test\n",
    "Розподіл Train-Valid-Test — це техніка для оцінки продуктивності вашої моделі машинного навчання, будь то класифікація чи регресія. Ви берете наявний набір даних і розділяєте його на три підмножини. Короткий опис ролі кожного з цих наборів даних наведений нижче.\n",
    "\n",
    "#### Навчальний набір даних (Train Dataset)\n",
    "Набір даних, що використовується для навчання моделі, тобто для налаштування параметрів моделі машинного навчання.\n",
    "\n",
    "#### Валідаційний набір даних (Valid Dataset)\n",
    "Набір даних, що використовується для надання неупередженої оцінки моделі, яка була навчена на навчальному наборі даних, під час налаштування гіперпараметрів моделі. Також відіграє роль в інших формах підготовки моделі, таких як вибір ознак, вибір порогу відсічення.\n",
    "\n",
    "#### Тестовий набір даних (Test Dataset)\n",
    "Набір даних, що використовується для надання неупередженої оцінки остаточної моделі, яка була навчена на навчальному наборі даних."
   ]
  },
  {
   "cell_type": "markdown",
   "metadata": {},
   "source": [
    "Валідаційний набір даних — це вибірка даних, яку тримають окремо від навчання моделі і використовують для оцінки навичок моделі під час налаштування її гіперпараметрів.\n",
    "\n",
    "Валідаційний набір даних відрізняється від тестового набору даних, який також утримується окремо від навчання моделі, але використовується для надання неупередженої оцінки навичок фінальної налаштованої моделі під час порівняння або вибору між фінальними моделями."
   ]
  },
  {
   "cell_type": "code",
   "execution_count": 52,
   "metadata": {},
   "outputs": [
    {
     "name": "stdout",
     "output_type": "stream",
     "text": [
      "(115452, 16)\n",
      "(115452, 1)\n",
      "(14432, 16)\n",
      "(14432, 1)\n",
      "(14432, 16)\n",
      "(14432, 1)\n"
     ]
    }
   ],
   "source": [
    "# Let's say we want to split the data in 80:10:10 for train:valid:test dataset\n",
    "# In the first step we will split the data in training and remaining dataset\n",
    "X_train, X_rem, y_train, y_rem = train_test_split(X,y, train_size=0.8)\n",
    "\n",
    "# Now since we want the valid and test size to be equal (10% each of overall data). \n",
    "# we have to define valid_size=0.5 (that is 50% of remaining data)\n",
    "X_valid, X_test, y_valid, y_test = train_test_split(X_rem,y_rem, test_size=0.5)\n",
    "\n",
    "print(X_train.shape)\n",
    "print(y_train.shape)\n",
    "print(X_valid.shape)\n",
    "print(y_valid.shape)\n",
    "print(X_test.shape)\n",
    "print(y_test.shape)"
   ]
  },
  {
   "cell_type": "code",
   "execution_count": 53,
   "metadata": {},
   "outputs": [],
   "source": [
    "from sklearn.ensemble import RandomForestClassifier, GradientBoostingClassifier"
   ]
  },
  {
   "cell_type": "code",
   "execution_count": 54,
   "metadata": {},
   "outputs": [],
   "source": [
    "models = {\n",
    "    'RandomForestClassifier': RandomForestClassifier(),\n",
    "    'GradientBoostingClassifier': GradientBoostingClassifier()\n",
    "}"
   ]
  },
  {
   "cell_type": "code",
   "execution_count": 55,
   "metadata": {},
   "outputs": [
    {
     "name": "stdout",
     "output_type": "stream",
     "text": [
      "training  RandomForestClassifier\n"
     ]
    },
    {
     "name": "stderr",
     "output_type": "stream",
     "text": [
      "c:\\Python312\\Lib\\site-packages\\sklearn\\base.py:1473: DataConversionWarning: A column-vector y was passed when a 1d array was expected. Please change the shape of y to (n_samples,), for example using ravel().\n",
      "  return fit_method(estimator, *args, **kwargs)\n"
     ]
    },
    {
     "name": "stdout",
     "output_type": "stream",
     "text": [
      "test set metrics:                precision    recall  f1-score   support\n",
      "\n",
      "           0       0.87      0.94      0.90     10894\n",
      "           1       0.75      0.55      0.64      3538\n",
      "\n",
      "    accuracy                           0.85     14432\n",
      "   macro avg       0.81      0.75      0.77     14432\n",
      "weighted avg       0.84      0.85      0.84     14432\n",
      "\n",
      "validation set metrics:                precision    recall  f1-score   support\n",
      "\n",
      "           0       0.86      0.94      0.90     10851\n",
      "           1       0.75      0.54      0.63      3581\n",
      "\n",
      "    accuracy                           0.84     14432\n",
      "   macro avg       0.80      0.74      0.76     14432\n",
      "weighted avg       0.83      0.84      0.83     14432\n",
      "\n",
      "training  GradientBoostingClassifier\n"
     ]
    },
    {
     "name": "stderr",
     "output_type": "stream",
     "text": [
      "c:\\Python312\\Lib\\site-packages\\sklearn\\preprocessing\\_label.py:114: DataConversionWarning: A column-vector y was passed when a 1d array was expected. Please change the shape of y to (n_samples, ), for example using ravel().\n",
      "  y = column_or_1d(y, warn=True)\n"
     ]
    },
    {
     "name": "stdout",
     "output_type": "stream",
     "text": [
      "test set metrics:                precision    recall  f1-score   support\n",
      "\n",
      "           0       0.86      0.99      0.92     10894\n",
      "           1       0.94      0.51      0.66      3538\n",
      "\n",
      "    accuracy                           0.87     14432\n",
      "   macro avg       0.90      0.75      0.79     14432\n",
      "weighted avg       0.88      0.87      0.86     14432\n",
      "\n",
      "validation set metrics:                precision    recall  f1-score   support\n",
      "\n",
      "           0       0.86      0.99      0.92     10851\n",
      "           1       0.95      0.50      0.66      3581\n",
      "\n",
      "    accuracy                           0.87     14432\n",
      "   macro avg       0.91      0.75      0.79     14432\n",
      "weighted avg       0.88      0.87      0.86     14432\n",
      "\n"
     ]
    }
   ],
   "source": [
    "classifiers = dict()\n",
    "for name, model in models.items():\n",
    "    print('training ',name)\n",
    "    classifier = model\n",
    "    classifier.fit(X_train, y_train)\n",
    "    y_pred = classifier.predict(X_test)\n",
    "    print('test set metrics: ', metrics.classification_report(y_test, y_pred))\n",
    "    y_pred = classifier.predict(X_valid)\n",
    "    print('validation set metrics: ', metrics.classification_report(y_valid, y_pred))\n",
    "    classifiers[name] = classifier\n"
   ]
  },
  {
   "cell_type": "markdown",
   "metadata": {},
   "source": [
    "### K-fold validation"
   ]
  },
  {
   "cell_type": "markdown",
   "metadata": {},
   "source": [
    "Перехресна перевірка K-fold.\n",
    "Щоб мінімізувати упередженість вибірки, ми можемо замість того, щоб робити єдиний поділ, зробити багато розділень і перевірятимемо модель на всіх комбінаціях цих поділів.\n",
    "\n",
    "Перевагою є те, що всі приклади використовуються як для навчання, так і для перевірки, і кожен приклад використовується один раз для перевірки. Ми зазвичай вибираємо або i = 5, або k = 10, оскільки вони знаходять хороший баланс між обчислювальною складністю та точністю перевірки."
   ]
  },
  {
   "cell_type": "code",
   "execution_count": 56,
   "metadata": {},
   "outputs": [
    {
     "name": "stderr",
     "output_type": "stream",
     "text": [
      "c:\\Python312\\Lib\\site-packages\\sklearn\\preprocessing\\_label.py:114: DataConversionWarning: A column-vector y was passed when a 1d array was expected. Please change the shape of y to (n_samples, ), for example using ravel().\n",
      "  y = column_or_1d(y, warn=True)\n"
     ]
    },
    {
     "name": "stdout",
     "output_type": "stream",
     "text": [
      "k-fold set metrics:                precision    recall  f1-score   support\n",
      "\n",
      "           0       0.86      0.99      0.92     17370\n",
      "           1       0.95      0.51      0.67      5721\n",
      "\n",
      "    accuracy                           0.87     23091\n",
      "   macro avg       0.90      0.75      0.79     23091\n",
      "weighted avg       0.88      0.87      0.86     23091\n",
      "\n"
     ]
    },
    {
     "name": "stderr",
     "output_type": "stream",
     "text": [
      "c:\\Python312\\Lib\\site-packages\\sklearn\\preprocessing\\_label.py:114: DataConversionWarning: A column-vector y was passed when a 1d array was expected. Please change the shape of y to (n_samples, ), for example using ravel().\n",
      "  y = column_or_1d(y, warn=True)\n"
     ]
    },
    {
     "name": "stdout",
     "output_type": "stream",
     "text": [
      "k-fold set metrics:                precision    recall  f1-score   support\n",
      "\n",
      "           0       0.86      0.99      0.92     17402\n",
      "           1       0.95      0.50      0.66      5689\n",
      "\n",
      "    accuracy                           0.87     23091\n",
      "   macro avg       0.90      0.75      0.79     23091\n",
      "weighted avg       0.88      0.87      0.86     23091\n",
      "\n"
     ]
    },
    {
     "name": "stderr",
     "output_type": "stream",
     "text": [
      "c:\\Python312\\Lib\\site-packages\\sklearn\\preprocessing\\_label.py:114: DataConversionWarning: A column-vector y was passed when a 1d array was expected. Please change the shape of y to (n_samples, ), for example using ravel().\n",
      "  y = column_or_1d(y, warn=True)\n"
     ]
    },
    {
     "name": "stdout",
     "output_type": "stream",
     "text": [
      "k-fold set metrics:                precision    recall  f1-score   support\n",
      "\n",
      "           0       0.86      0.99      0.92     17354\n",
      "           1       0.95      0.51      0.66      5736\n",
      "\n",
      "    accuracy                           0.87     23090\n",
      "   macro avg       0.90      0.75      0.79     23090\n",
      "weighted avg       0.88      0.87      0.86     23090\n",
      "\n"
     ]
    },
    {
     "name": "stderr",
     "output_type": "stream",
     "text": [
      "c:\\Python312\\Lib\\site-packages\\sklearn\\preprocessing\\_label.py:114: DataConversionWarning: A column-vector y was passed when a 1d array was expected. Please change the shape of y to (n_samples, ), for example using ravel().\n",
      "  y = column_or_1d(y, warn=True)\n"
     ]
    },
    {
     "name": "stdout",
     "output_type": "stream",
     "text": [
      "k-fold set metrics:                precision    recall  f1-score   support\n",
      "\n",
      "           0       0.86      0.99      0.92     17446\n",
      "           1       0.95      0.51      0.66      5644\n",
      "\n",
      "    accuracy                           0.87     23090\n",
      "   macro avg       0.90      0.75      0.79     23090\n",
      "weighted avg       0.88      0.87      0.86     23090\n",
      "\n"
     ]
    },
    {
     "name": "stderr",
     "output_type": "stream",
     "text": [
      "c:\\Python312\\Lib\\site-packages\\sklearn\\preprocessing\\_label.py:114: DataConversionWarning: A column-vector y was passed when a 1d array was expected. Please change the shape of y to (n_samples, ), for example using ravel().\n",
      "  y = column_or_1d(y, warn=True)\n"
     ]
    },
    {
     "name": "stdout",
     "output_type": "stream",
     "text": [
      "k-fold set metrics:                precision    recall  f1-score   support\n",
      "\n",
      "           0       0.86      0.99      0.92     17331\n",
      "           1       0.95      0.51      0.66      5759\n",
      "\n",
      "    accuracy                           0.87     23090\n",
      "   macro avg       0.90      0.75      0.79     23090\n",
      "weighted avg       0.88      0.87      0.86     23090\n",
      "\n",
      "test set metrics:                precision    recall  f1-score   support\n",
      "\n",
      "           0       0.86      0.99      0.92     10894\n",
      "           1       0.94      0.51      0.66      3538\n",
      "\n",
      "    accuracy                           0.87     14432\n",
      "   macro avg       0.90      0.75      0.79     14432\n",
      "weighted avg       0.88      0.87      0.86     14432\n",
      "\n"
     ]
    }
   ],
   "source": [
    "from numpy import array\n",
    "from sklearn.model_selection import KFold\n",
    "\n",
    "\n",
    "# split train/test data\n",
    "X_train, X_rem, y_train, y_rem = train_test_split(X,y, train_size=0.8)\n",
    "\n",
    "\n",
    "# prepare cross validation\n",
    "kfold = KFold(n_splits=5, shuffle=True, random_state=42)\n",
    "# enumerate splits\n",
    "for train, test in kfold.split(X_train):\n",
    "    classifier = GradientBoostingClassifier()\n",
    "    classifier.fit(X_train.iloc[train], y_train.iloc[train])\n",
    "    y_pred = classifier.predict(X_train.iloc[test])\n",
    "    print('k-fold set metrics: ', metrics.classification_report(y_train.iloc[test], y_pred))\n",
    "\n",
    "y_pred = classifier.predict(X_test)    \n",
    "print('test set metrics: ', metrics.classification_report(y_test, y_pred))\n"
   ]
  },
  {
   "cell_type": "markdown",
   "metadata": {},
   "source": [
    "### Random permutations cross-validation"
   ]
  },
  {
   "cell_type": "markdown",
   "metadata": {},
   "source": [
    "Ітератор ShuffleSplit створюватиме визначену користувачем кількість незалежних розділень на тренувальні та тестові набори даних. Зразки спочатку перемішуються, а потім розділяються на пару тренувального і тестового наборів.\n",
    "\n",
    "Можна контролювати випадковість для відтворюваності результатів, явно встановивши значення генератора псевдовипадкових чисел random_state."
   ]
  },
  {
   "cell_type": "code",
   "execution_count": 57,
   "metadata": {},
   "outputs": [
    {
     "name": "stderr",
     "output_type": "stream",
     "text": [
      "c:\\Python312\\Lib\\site-packages\\sklearn\\preprocessing\\_label.py:114: DataConversionWarning: A column-vector y was passed when a 1d array was expected. Please change the shape of y to (n_samples, ), for example using ravel().\n",
      "  y = column_or_1d(y, warn=True)\n"
     ]
    },
    {
     "name": "stdout",
     "output_type": "stream",
     "text": [
      "k-fold set metrics:                precision    recall  f1-score   support\n",
      "\n",
      "           0       0.86      0.99      0.92     21768\n",
      "           1       0.95      0.52      0.67      7096\n",
      "\n",
      "    accuracy                           0.87     28864\n",
      "   macro avg       0.90      0.75      0.80     28864\n",
      "weighted avg       0.88      0.87      0.86     28864\n",
      "\n"
     ]
    },
    {
     "name": "stderr",
     "output_type": "stream",
     "text": [
      "c:\\Python312\\Lib\\site-packages\\sklearn\\preprocessing\\_label.py:114: DataConversionWarning: A column-vector y was passed when a 1d array was expected. Please change the shape of y to (n_samples, ), for example using ravel().\n",
      "  y = column_or_1d(y, warn=True)\n"
     ]
    },
    {
     "name": "stdout",
     "output_type": "stream",
     "text": [
      "k-fold set metrics:                precision    recall  f1-score   support\n",
      "\n",
      "           0       0.86      0.99      0.92     21752\n",
      "           1       0.95      0.50      0.66      7112\n",
      "\n",
      "    accuracy                           0.87     28864\n",
      "   macro avg       0.91      0.75      0.79     28864\n",
      "weighted avg       0.88      0.87      0.86     28864\n",
      "\n"
     ]
    },
    {
     "name": "stderr",
     "output_type": "stream",
     "text": [
      "c:\\Python312\\Lib\\site-packages\\sklearn\\preprocessing\\_label.py:114: DataConversionWarning: A column-vector y was passed when a 1d array was expected. Please change the shape of y to (n_samples, ), for example using ravel().\n",
      "  y = column_or_1d(y, warn=True)\n"
     ]
    },
    {
     "name": "stdout",
     "output_type": "stream",
     "text": [
      "k-fold set metrics:                precision    recall  f1-score   support\n",
      "\n",
      "           0       0.86      0.99      0.92     21867\n",
      "           1       0.94      0.51      0.66      6997\n",
      "\n",
      "    accuracy                           0.87     28864\n",
      "   macro avg       0.90      0.75      0.79     28864\n",
      "weighted avg       0.88      0.87      0.86     28864\n",
      "\n"
     ]
    },
    {
     "name": "stderr",
     "output_type": "stream",
     "text": [
      "c:\\Python312\\Lib\\site-packages\\sklearn\\preprocessing\\_label.py:114: DataConversionWarning: A column-vector y was passed when a 1d array was expected. Please change the shape of y to (n_samples, ), for example using ravel().\n",
      "  y = column_or_1d(y, warn=True)\n"
     ]
    },
    {
     "name": "stdout",
     "output_type": "stream",
     "text": [
      "k-fold set metrics:                precision    recall  f1-score   support\n",
      "\n",
      "           0       0.86      0.99      0.92     21748\n",
      "           1       0.95      0.51      0.67      7116\n",
      "\n",
      "    accuracy                           0.87     28864\n",
      "   macro avg       0.91      0.75      0.79     28864\n",
      "weighted avg       0.88      0.87      0.86     28864\n",
      "\n"
     ]
    },
    {
     "name": "stderr",
     "output_type": "stream",
     "text": [
      "c:\\Python312\\Lib\\site-packages\\sklearn\\preprocessing\\_label.py:114: DataConversionWarning: A column-vector y was passed when a 1d array was expected. Please change the shape of y to (n_samples, ), for example using ravel().\n",
      "  y = column_or_1d(y, warn=True)\n"
     ]
    },
    {
     "name": "stdout",
     "output_type": "stream",
     "text": [
      "k-fold set metrics:                precision    recall  f1-score   support\n",
      "\n",
      "           0       0.86      0.99      0.92     21686\n",
      "           1       0.95      0.51      0.66      7178\n",
      "\n",
      "    accuracy                           0.87     28864\n",
      "   macro avg       0.90      0.75      0.79     28864\n",
      "weighted avg       0.88      0.87      0.86     28864\n",
      "\n"
     ]
    }
   ],
   "source": [
    "from sklearn.model_selection import ShuffleSplit\n",
    "\n",
    "ss = ShuffleSplit(n_splits=5, test_size=0.2, random_state=0)\n",
    "for train_index, test_index in ss.split(X):\n",
    "    classifier = GradientBoostingClassifier()\n",
    "    classifier.fit(X.iloc[train_index], y.iloc[train_index])\n",
    "    y_pred = classifier.predict(X.iloc[test_index])\n",
    "    print('k-fold set metrics: ', metrics.classification_report(y.iloc[test_index], y_pred))"
   ]
  },
  {
   "cell_type": "markdown",
   "metadata": {},
   "source": [
    "### Результати для різних підходів розбиття даних"
   ]
  },
  {
   "cell_type": "markdown",
   "metadata": {},
   "source": [
    " На основі аналізу результатів обидва підходи, KFold Cross-Validation і ShuffleSplit Cross-Validation, показали практично однакові результати за всіма метриками оцінювання, такими як точність (Accuracy), precision, recall і F1-score. Точність для обох методів становила 0.87, а значення F1-score для класу 1 були близько 0.67. Значення precision для класу 1 становило 0.95, а recall — 0.51, що свідчить про схожий рівень успішності і для обох підходів."
   ]
  },
  {
   "cell_type": "markdown",
   "metadata": {},
   "source": [
    "## Validation metrics"
   ]
  },
  {
   "cell_type": "markdown",
   "metadata": {},
   "source": [
    "### Classification metrics"
   ]
  },
  {
   "cell_type": "markdown",
   "metadata": {},
   "source": [
    "#### Define target and features columns"
   ]
  },
  {
   "cell_type": "code",
   "execution_count": 58,
   "metadata": {},
   "outputs": [],
   "source": [
    "y_column = ['Status']  # target variable\n",
    "X_columns = [\n",
    "    'loan_limit', 'approv_in_adv', 'Credit_Worthiness',\n",
    "    'business_or_commercial', 'Neg_ammortization', 'interest_only',\n",
    "    'lump_sum_payment', 'construction_type', 'income',\n",
    "    'co-applicant_credit_type', 'age', 'submission_of_application',\n",
    "    'loan_type_type2', 'loan_type_type3', 'occupancy_type_pr',\n",
    "    'credit_type_EQUI'\n",
    "]\n",
    "X = ds[X_columns]\n",
    "y = ds[y_column]"
   ]
  },
  {
   "cell_type": "markdown",
   "metadata": {},
   "source": [
    "#### Train test set split"
   ]
  },
  {
   "cell_type": "code",
   "execution_count": 59,
   "metadata": {},
   "outputs": [],
   "source": [
    "X_train, X_test, y_train, y_test = train_test_split(X, y, test_size=0.3, random_state=42)"
   ]
  },
  {
   "cell_type": "markdown",
   "metadata": {},
   "source": [
    "### Confusion matrix"
   ]
  },
  {
   "cell_type": "markdown",
   "metadata": {},
   "source": [
    "Функція confusion_matrix оцінює точність класифікації, обчислюючи матрицю невідповідностей, де кожен рядок відповідає істинному класу.\n",
    "\n",
    "За визначенням, запис у матриці невідповідностей — це кількість спостережень, які фактично належать до певної групи, але передбачено, що вони належать до іншої групи. Ось приклад:"
   ]
  },
  {
   "cell_type": "code",
   "execution_count": 60,
   "metadata": {},
   "outputs": [],
   "source": [
    "from sklearn.metrics import confusion_matrix\n",
    "from sklearn.metrics import ConfusionMatrixDisplay"
   ]
  },
  {
   "cell_type": "code",
   "execution_count": 61,
   "metadata": {},
   "outputs": [
    {
     "name": "stderr",
     "output_type": "stream",
     "text": [
      "c:\\Python312\\Lib\\site-packages\\sklearn\\preprocessing\\_label.py:114: DataConversionWarning: A column-vector y was passed when a 1d array was expected. Please change the shape of y to (n_samples, ), for example using ravel().\n",
      "  y = column_or_1d(y, warn=True)\n"
     ]
    },
    {
     "name": "stdout",
     "output_type": "stream",
     "text": [
      "[[32422   306]\n",
      " [ 5229  5338]]\n"
     ]
    },
    {
     "data": {
      "text/plain": [
       "<sklearn.metrics._plot.confusion_matrix.ConfusionMatrixDisplay at 0x1490f4d7800>"
      ]
     },
     "execution_count": 61,
     "metadata": {},
     "output_type": "execute_result"
    },
    {
     "data": {
      "image/png": "[encoded data removed]",
      "text/plain": [
       "<Figure size 640x480 with 2 Axes>"
      ]
     },
     "metadata": {},
     "output_type": "display_data"
    }
   ],
   "source": [
    "dt_classifier = GradientBoostingClassifier()\n",
    "dt_classifier.fit(X_train, y_train)\n",
    "y_pred = dt_classifier.predict(X_test)\n",
    "conf_matrix = metrics.confusion_matrix(y_test, y_pred)\n",
    "print(conf_matrix)\n",
    "disp = ConfusionMatrixDisplay(conf_matrix)\n",
    "disp.plot()"
   ]
  },
  {
   "cell_type": "markdown",
   "metadata": {},
   "source": [
    "### Accuracy "
   ]
  },
  {
   "cell_type": "markdown",
   "metadata": {},
   "source": [
    "Точність класифікації (Classification Accuracy) — це те, що зазвичай мається на увазі, коли ми використовуємо термін \"точність\". Це співвідношення кількості правильних прогнозів до загальної кількості вхідних зразків."
   ]
  },
  {
   "cell_type": "markdown",
   "metadata": {},
   "source": [
    "Це добре працює лише в тому випадку, якщо кількість зразків, що належать кожному класу, однакова. Наприклад, розглянемо ситуацію, коли у тренувальному наборі є 98% зразків класу A і 2% зразків класу B. Тоді наша модель може легко отримати 98% точності навчання, просто передбачаючи, що всі зразки належать до класу A."
   ]
  },
  {
   "cell_type": "code",
   "execution_count": 62,
   "metadata": {},
   "outputs": [],
   "source": [
    "from sklearn.tree import DecisionTreeClassifier\n",
    "from sklearn.metrics import accuracy_score"
   ]
  },
  {
   "cell_type": "code",
   "execution_count": 63,
   "metadata": {},
   "outputs": [
    {
     "data": {
      "text/plain": [
       "0.8423836470724102"
      ]
     },
     "execution_count": 63,
     "metadata": {},
     "output_type": "execute_result"
    }
   ],
   "source": [
    "dt_classifier = DecisionTreeClassifier()\n",
    "dt_classifier.fit(X_train, y_train)\n",
    "y_pred = dt_classifier.predict(X_test)\n",
    "metrics.accuracy_score(y_test, y_pred)"
   ]
  },
  {
   "cell_type": "markdown",
   "metadata": {},
   "source": [
    "### Precision"
   ]
  },
  {
   "cell_type": "markdown",
   "metadata": {},
   "source": [
    "Це кількість правильних позитивних результатів, поділена на кількість позитивних результатів, передбачених класифікатором."
   ]
  },
  {
   "cell_type": "code",
   "execution_count": 64,
   "metadata": {},
   "outputs": [],
   "source": [
    "from sklearn.ensemble import GradientBoostingClassifier\n",
    "from sklearn.metrics import precision_score"
   ]
  },
  {
   "cell_type": "code",
   "execution_count": 65,
   "metadata": {},
   "outputs": [
    {
     "name": "stderr",
     "output_type": "stream",
     "text": [
      "c:\\Python312\\Lib\\site-packages\\sklearn\\preprocessing\\_label.py:114: DataConversionWarning: A column-vector y was passed when a 1d array was expected. Please change the shape of y to (n_samples, ), for example using ravel().\n",
      "  y = column_or_1d(y, warn=True)\n"
     ]
    },
    {
     "data": {
      "text/plain": [
       "0.9457831325301205"
      ]
     },
     "execution_count": 65,
     "metadata": {},
     "output_type": "execute_result"
    }
   ],
   "source": [
    "dt_classifier = GradientBoostingClassifier()\n",
    "dt_classifier.fit(X_train, y_train)\n",
    "y_pred = dt_classifier.predict(X_test)\n",
    "metrics.precision_score(y_test, y_pred)"
   ]
  },
  {
   "cell_type": "markdown",
   "metadata": {},
   "source": [
    "### Recall"
   ]
  },
  {
   "cell_type": "markdown",
   "metadata": {},
   "source": [
    "Це кількість правильних позитивних результатів, поділена на кількість всіх релевантних зразків (усіх зразків, які мали бути визначені як позитивні)."
   ]
  },
  {
   "cell_type": "code",
   "execution_count": 66,
   "metadata": {},
   "outputs": [],
   "source": [
    "from sklearn.metrics import recall_score"
   ]
  },
  {
   "cell_type": "code",
   "execution_count": 67,
   "metadata": {},
   "outputs": [
    {
     "name": "stderr",
     "output_type": "stream",
     "text": [
      "c:\\Python312\\Lib\\site-packages\\sklearn\\preprocessing\\_label.py:114: DataConversionWarning: A column-vector y was passed when a 1d array was expected. Please change the shape of y to (n_samples, ), for example using ravel().\n",
      "  y = column_or_1d(y, warn=True)\n"
     ]
    },
    {
     "data": {
      "text/plain": [
       "0.5051575660073815"
      ]
     },
     "execution_count": 67,
     "metadata": {},
     "output_type": "execute_result"
    }
   ],
   "source": [
    "dt_classifier = GradientBoostingClassifier()\n",
    "dt_classifier.fit(X_train, y_train)\n",
    "y_pred = dt_classifier.predict(X_test)\n",
    "metrics.recall_score(y_test, y_pred)"
   ]
  },
  {
   "cell_type": "markdown",
   "metadata": {},
   "source": [
    "### F1 Score"
   ]
  },
  {
   "cell_type": "markdown",
   "metadata": {},
   "source": [
    "F1-оцінка (F1 Score) — це гармонічне середнє між точністю (precision) і повнотою (recall). Значення F1-оцінки знаходиться в діапазоні [0, 1]. Вона показує, наскільки точним є ваш класифікатор (скільки прикладів він класифікує правильно), а також наскільки він є стійким (тобто не пропускає значну кількість прикладів).\n",
    "\n",
    "Висока точність, але низька повнота, дає вам дуже точний результат, проте він пропускає велику кількість прикладів, які важко класифікувати. Чим вища F1-оцінка, тим краща продуктивність нашої моделі. "
   ]
  },
  {
   "cell_type": "code",
   "execution_count": 68,
   "metadata": {},
   "outputs": [],
   "source": [
    "from sklearn.metrics import f1_score"
   ]
  },
  {
   "cell_type": "code",
   "execution_count": 69,
   "metadata": {},
   "outputs": [
    {
     "name": "stderr",
     "output_type": "stream",
     "text": [
      "c:\\Python312\\Lib\\site-packages\\sklearn\\preprocessing\\_label.py:114: DataConversionWarning: A column-vector y was passed when a 1d array was expected. Please change the shape of y to (n_samples, ), for example using ravel().\n",
      "  y = column_or_1d(y, warn=True)\n"
     ]
    },
    {
     "data": {
      "text/plain": [
       "0.658565171796928"
      ]
     },
     "execution_count": 69,
     "metadata": {},
     "output_type": "execute_result"
    }
   ],
   "source": [
    "dt_classifier = GradientBoostingClassifier()\n",
    "dt_classifier.fit(X_train, y_train)\n",
    "y_pred = dt_classifier.predict(X_test)\n",
    "metrics.f1_score(y_test, y_pred)"
   ]
  },
  {
   "cell_type": "markdown",
   "metadata": {},
   "source": [
    "### Area Under Curve(AUC)"
   ]
  },
  {
   "cell_type": "markdown",
   "metadata": {},
   "source": [
    "Площа під кривою (AUC) — це один з найбільш поширених показників для оцінки якості моделі. AUC використовується для задач двійкової класифікації. AUC класифікатора дорівнює ймовірності того, що класифікатор поставить випадково вибраний позитивний приклад вище, ніж випадково вибраний негативний приклад. \n",
    "Крива приймально-передавальної характеристики (ROC), або просто ROC-крива, є графічним зображенням, яке ілюструє продуктивність системи двійкової класифікації при зміні порогу розрізнення. Вона створюється шляхом побудови графіка, що показує відношення істинних позитивів серед позитивів (TPR = true positive rate) до відношення хибних позитивів серед негативів (FPR = false positive rate) при різних налаштуваннях порогу. T"
   ]
  },
  {
   "cell_type": "code",
   "execution_count": 70,
   "metadata": {},
   "outputs": [],
   "source": [
    "from sklearn.metrics import roc_curve\n",
    "from sklearn.metrics import auc"
   ]
  },
  {
   "cell_type": "code",
   "execution_count": 71,
   "metadata": {},
   "outputs": [
    {
     "name": "stderr",
     "output_type": "stream",
     "text": [
      "c:\\Python312\\Lib\\site-packages\\sklearn\\preprocessing\\_label.py:114: DataConversionWarning: A column-vector y was passed when a 1d array was expected. Please change the shape of y to (n_samples, ), for example using ravel().\n",
      "  y = column_or_1d(y, warn=True)\n"
     ]
    }
   ],
   "source": [
    "dt_classifier = GradientBoostingClassifier()\n",
    "dt_classifier.fit(X_train, y_train)\n",
    "y_pred = dt_classifier.predict(X_test)\n",
    "\n",
    "fpr, tpr, thresholds = roc_curve(y_test, y_pred)\n",
    "roc_auc = auc(fpr, tpr)"
   ]
  },
  {
   "cell_type": "code",
   "execution_count": 72,
   "metadata": {},
   "outputs": [
    {
     "data": {
      "text/plain": [
       "0.747903886890271"
      ]
     },
     "execution_count": 72,
     "metadata": {},
     "output_type": "execute_result"
    }
   ],
   "source": [
    "roc_auc"
   ]
  },
  {
   "cell_type": "code",
   "execution_count": 73,
   "metadata": {},
   "outputs": [
    {
     "data": {
      "image/png": "[encoded data removed]",
      "text/plain": [
       "<Figure size 640x480 with 1 Axes>"
      ]
     },
     "metadata": {},
     "output_type": "display_data"
    }
   ],
   "source": [
    "# method I: plt\n",
    "import matplotlib.pyplot as plt\n",
    "plt.title('Receiver Operating Characteristic')\n",
    "plt.plot(fpr, tpr, 'b', label = 'AUC = %0.2f' % roc_auc)\n",
    "plt.legend(loc = 'lower right')\n",
    "plt.plot([0, 1], [0, 1],'r--')\n",
    "plt.xlim([0, 1])\n",
    "plt.ylim([0, 1])\n",
    "plt.ylabel('True Positive Rate')\n",
    "plt.xlabel('False Positive Rate')\n",
    "plt.show()"
   ]
  },
  {
   "cell_type": "markdown",
   "metadata": {},
   "source": [
    "### The classification_report function builds a text report showing the main classification metrics. "
   ]
  },
  {
   "cell_type": "code",
   "execution_count": 74,
   "metadata": {},
   "outputs": [
    {
     "name": "stderr",
     "output_type": "stream",
     "text": [
      "c:\\Python312\\Lib\\site-packages\\sklearn\\preprocessing\\_label.py:114: DataConversionWarning: A column-vector y was passed when a 1d array was expected. Please change the shape of y to (n_samples, ), for example using ravel().\n",
      "  y = column_or_1d(y, warn=True)\n"
     ]
    },
    {
     "name": "stdout",
     "output_type": "stream",
     "text": [
      "              precision    recall  f1-score   support\n",
      "\n",
      "           0       0.86      0.99      0.92     32728\n",
      "           1       0.95      0.51      0.66     10567\n",
      "\n",
      "    accuracy                           0.87     43295\n",
      "   macro avg       0.90      0.75      0.79     43295\n",
      "weighted avg       0.88      0.87      0.86     43295\n",
      "\n"
     ]
    }
   ],
   "source": [
    "dt_classifier = GradientBoostingClassifier()\n",
    "dt_classifier.fit(X_train, y_train)\n",
    "y_pred = dt_classifier.predict(X_test)\n",
    "print(metrics.classification_report(y_test, y_pred))"
   ]
  }
 ],
 "metadata": {
  "kernelspec": {
   "display_name": "Python 3",
   "language": "python",
   "name": "python3"
  },
  "language_info": {
   "codemirror_mode": {
    "name": "ipython",
    "version": 3
   },
   "file_extension": ".py",
   "mimetype": "text/x-python",
   "name": "python",
   "nbconvert_exporter": "python",
   "pygments_lexer": "ipython3",
   "version": "3.12.2"
  }
 },
 "nbformat": 4,
 "nbformat_minor": 2
}
